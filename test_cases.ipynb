{
 "cells": [
  {
   "cell_type": "code",
   "execution_count": 1,
   "metadata": {
    "pycharm": {
     "is_executing": false,
     "name": "#%%\n"
    }
   },
   "outputs": [],
   "source": [
    "from item import *\n",
    "from user import *\n",
    "from database import db\n",
    "import string\n",
    "\n"
   ]
  },
  {
   "cell_type": "markdown",
   "metadata": {},
   "source": [
    "# Populate Database"
   ]
  },
  {
   "cell_type": "code",
   "execution_count": 2,
   "metadata": {
    "pycharm": {
     "name": "#%%\n"
    }
   },
   "outputs": [
    {
     "name": "stdout",
     "output_type": "stream",
     "text": [
      "[Beste Burhan, Beyza Butun, Edward Rose, Dimitri Smith, Janne Johnson, Evgeny Grinko, Luis Williams, Olivia Oliver, Amelia Brown, Valeria Black]\n",
      "[]\n",
      "[10, 20]\n"
     ]
    },
    {
     "data": {
      "text/plain": [
       "['besteburhan7@gmail.com', 'beyzabtn3@gmail.com']"
      ]
     },
     "execution_count": 2,
     "metadata": {},
     "output_type": "execute_result"
    }
   ],
   "source": [
    "names = [\"Beste\", \"Beyza\", \"Edward\", \"Dimitri\", \"Janne\",\n",
    "             \"Evgeny\", \"Luis\", \"Olivia\", \"Amelia\", \"Valeria\"]\n",
    "surnames = [\"Burhan\", \"Butun\", \"Rose\", \"Smith\", \"Johnson\",\n",
    "            \"Grinko\", \"Williams\", \"Oliver\", \"Brown\", \"Black\"]\n",
    "email = [\"besteburhan7@gmail.com\", \"beyzabtn3@gmail.com\",\n",
    "         \"edwardrose@gmail.com\", \"dimitrismith@gmail.com\",\n",
    "         \"jannejohnson@gmail.com\", \"engenygrinko@gmail.com\",\n",
    "         \"luiswilliams@gmail.com\", \"oliviaoliver@gmail.com\",\n",
    "         \"ameliabrown@gmail.com\", \"valeriablack@gmail.com\"]\n",
    "\n",
    "passwords = []\n",
    "\n",
    "for passwd in range(10):\n",
    "    characters = string.ascii_letters + string.punctuation +\\\n",
    "        string.digits\n",
    "    generated_password = \"\".join(choice(characters) for x in range(randint(8, 10)))\n",
    "    passwords.append(generated_password)\n",
    "\n",
    "STATE = ['NOFRIEND', 'CLOSEFRIEND', 'FRIEND']\n",
    "item_types = [\"cd\", \"book\", \"dvd\"]\n",
    "title = [\"To Kill a Mockingbird\", \"Harry Potter\",\n",
    "         \"1984\", \"Pride and Prejudice\",\"Diary of a young girl\", \n",
    "         \"little prince\", \"great gatspy\", \"catcher in the rye\",\n",
    "         \"Animal Form\", \" The lord of the rings\", \"Jane Eyre\", \n",
    "         \"The Hunger Games\", \"Twilight\", \"The book Thief\",\n",
    "         \"Gone with the wind\", \"Bu sabahların bir anlamı olmalı\",\n",
    "         \"Sil bastan\", \"Cikita Muz\", \"Nane nane\", \"Ismail\"]\n",
    "artist = [\"Harper Lee\", \"J.K. Rowling\", \"George Orwell\", \n",
    "          \"Jane Austen\", \"Anne Frank\", \"Antoine de Saint\",\n",
    "          \"F. Scott\", \"J.D. Salinger\", \"George Orwell\", \n",
    "          \"J.R.R. Tolkien\", \"Charlotte Bronte\", \"Suzanne Collins\",\n",
    "          \"Stephen Meyer\", \"Markus Zusak\", \"Margaret Mitchell\",\n",
    "          \"Vega\", \"Sebnem Ferah\", \"Ajdar\", \"Ajdar\",\"Grup Vitamın\"]\n",
    "year = [\"1996\", \"1997\", \"1998\", \"1999\", \"2000\", \"2001\",\n",
    "        \"2002\", \"2003\", \"2004\", \"2005\", \"2006\", \"2007\",\n",
    "        \"2008\", \"2009\", \"2010\", \"2011\", \"2012\", \"2013\",\n",
    "        \"2014\", \"2015\", \"2016\"]\n",
    "genre = [\"Action\", \"Anthology\", \"Classic\", \"Comic\", \"Crime\",\n",
    "         \"Drama\", \"Fairy Tale\" , \"History\", \"Horror\", \"Romance\",\n",
    "         \"Sci-Fci\", \"Action\", \"Anthology\", \"Classic\", \"Comic\", \n",
    "         \"Crime\", \"Drama\", \"Fairy Tale\" , \"History\", \"Horror\"]\n",
    "\n",
    "User_objects = []\n",
    "\n",
    "for index in range(10):\n",
    "    user = User(names[index], surnames[index], email[index],\n",
    "                passwords[index])\n",
    "    User_objects.append(user)\n",
    "    \n",
    "Item_objects = []\n",
    "for index in range(20):\n",
    "    Item_objects.append(Item(User_objects[index%10], item_types[randint(0,2)],\n",
    "                title[index], None, artist[index], genre[index],\n",
    "                year[index]))\n",
    "    \n",
    "for i in range(5):\n",
    "    sender = User_objects[i]\n",
    "    receiver = User_objects[i+5]\n",
    "    sender.friend(receiver.email)\n",
    "    receiver.set_friend(sender, STATE[randint(0,2)])\n",
    "\n",
    "print(User_objects)\n",
    "\n",
    "# list_items\n",
    "\n",
    "print(User_objects[2].list_items(User_objects[7]))\n",
    "print(User_objects[4].list_items(User_objects[9]))\n",
    "\n",
    "User_objects[3].watch(User_objects[8], \"USER\")\n",
    "User_objects[4].watch(User_objects[9], \"USER\")\n",
    "\n",
    "User_objects[0].look_up((\"beyzabutun@metu,edu,tr\",\n",
    "                        \"besteburhan7@gmail.com\", \n",
    "                        \"beyzabtn3@gmail.com\" ))\n",
    "\n",
    "\n",
    "\n"
   ]
  },
  {
   "cell_type": "code",
   "execution_count": 3,
   "metadata": {},
   "outputs": [
    {
     "data": {
      "text/plain": [
       "[9]"
      ]
     },
     "execution_count": 3,
     "metadata": {},
     "output_type": "execute_result"
    }
   ],
   "source": [
    "Item_objects[7].borrowed_req(User_objects[8])"
   ]
  },
  {
   "cell_type": "code",
   "execution_count": 4,
   "metadata": {},
   "outputs": [
    {
     "data": {
      "text/plain": [
       "[9, 10]"
      ]
     },
     "execution_count": 4,
     "metadata": {},
     "output_type": "execute_result"
    }
   ],
   "source": [
    "Item_objects[7].borrowed_req(User_objects[9])"
   ]
  },
  {
   "cell_type": "code",
   "execution_count": 5,
   "metadata": {},
   "outputs": [],
   "source": [
    "Item_objects[7].borrowed_by(User_objects[8])"
   ]
  },
  {
   "cell_type": "code",
   "execution_count": null,
   "metadata": {},
   "outputs": [],
   "source": []
  },
  {
   "cell_type": "code",
   "execution_count": 6,
   "metadata": {},
   "outputs": [
    {
     "name": "stdout",
     "output_type": "stream",
     "text": [
      "Item Id, User Id, is_returned [(8, 9, 0)]\n"
     ]
    }
   ],
   "source": [
    "# 9nth user cannot borrow before it is returned\n",
    "Item_objects[7].borrowed_by(User_objects[9])\n",
    "\n",
    "curs = db.get_cursor()\n",
    "print(\"Item Id, User Id, is_returned\", curs.execute(\"select item_id, user_id, is_returned from Borrows;\").fetchall())"
   ]
  },
  {
   "cell_type": "code",
   "execution_count": 7,
   "metadata": {},
   "outputs": [
    {
     "name": "stdout",
     "output_type": "stream",
     "text": [
      "Item Id, User Id, is_returned [(8, 9, 1), (8, 10, 1)]\n"
     ]
    }
   ],
   "source": [
    "# After 8th user returned the item, 9th user borrows it and then returns it.\n",
    "\n",
    "Item_objects[7].returned()\n",
    "\n",
    "Item_objects[7].borrowed_by(User_objects[9])\n",
    "\n",
    "Item_objects[7].returned()\n",
    "\n",
    "print(\"Item Id, User Id, is_returned\", curs.execute(\"select item_id, user_id, is_returned from Borrows;\").fetchall())"
   ]
  },
  {
   "cell_type": "code",
   "execution_count": 8,
   "metadata": {},
   "outputs": [
    {
     "name": "stdout",
     "output_type": "stream",
     "text": [
      "[(10, 'This book is kinda boring. Not recommended!'), (7, 'Absolutely recommended!')]\n"
     ]
    }
   ],
   "source": [
    "# 9th and 6th users comment the 4th item\n",
    "\n",
    "Item_objects[4]._comment(User_objects[9], \"This book is kinda boring. Not recommended!\")\n",
    "\n",
    "Item_objects[4].setstate(\"COMMENT\", \"EVERYONE\")\n",
    "\n",
    "Item_objects[4]._comment(User_objects[6], \"Absolutely recommended!\")\n",
    "\n",
    "print(Item_objects[4].list_comments())"
   ]
  },
  {
   "cell_type": "code",
   "execution_count": 9,
   "metadata": {},
   "outputs": [
    {
     "name": "stdout",
     "output_type": "stream",
     "text": [
      "8.0\n"
     ]
    }
   ],
   "source": [
    "# The 8th and 9th users rate the 7th item\n",
    "\n",
    "Item_objects[7].rate(User_objects[8], 9)\n",
    "\n",
    "Item_objects[7].rate(User_objects[9], 7)\n",
    "\n",
    "print(Item_objects[7].get_rating())\n"
   ]
  },
  {
   "cell_type": "code",
   "execution_count": 14,
   "metadata": {},
   "outputs": [
    {
     "name": "stdout",
     "output_type": "stream",
     "text": [
      "Item_Id Location [(8, 'SHELF')]\n"
     ]
    }
   ],
   "source": [
    "# Change 7th and 4th items' location\n",
    "\n",
    "Item_objects[7].locate(\"SHELF\")\n",
    "\n",
    "Item_objects[4].locate(\"ROOM\")\n",
    "\n",
    "print(\"Item_Id Location\", curs.execute(\"select id,location from Items where id = 8 ;\").fetchall())\n",
    "\n"
   ]
  },
  {
   "cell_type": "code",
   "execution_count": 10,
   "metadata": {},
   "outputs": [
    {
     "name": "stdout",
     "output_type": "stream",
     "text": [
      "[To Kill a Mockingbird, Harry Potter, 1984, Pride and Prejudice, Diary of a young girl, little prince, great gatspy, catcher in the rye, Animal Form,  The lord of the rings, Jane Eyre, The Hunger Games, Twilight, The book Thief, Gone with the wind, Bu sabahların bir anlamı olmalı, Sil bastan, Cikita Muz, Nane nane, Ismail]\n"
     ]
    }
   ],
   "source": [
    "print(Item_objects)"
   ]
  },
  {
   "cell_type": "code",
   "execution_count": null,
   "metadata": {},
   "outputs": [],
   "source": []
  },
  {
   "cell_type": "code",
   "execution_count": null,
   "metadata": {},
   "outputs": [],
   "source": []
  },
  {
   "cell_type": "code",
   "execution_count": null,
   "metadata": {},
   "outputs": [],
   "source": []
  }
 ],
 "metadata": {
  "kernelspec": {
   "display_name": "Python 3",
   "language": "python",
   "name": "python3"
  },
  "language_info": {
   "codemirror_mode": {
    "name": "ipython",
    "version": 3
   },
   "file_extension": ".py",
   "mimetype": "text/x-python",
   "name": "python",
   "nbconvert_exporter": "python",
   "pygments_lexer": "ipython3",
   "version": "3.7.3"
  },
  "pycharm": {
   "stem_cell": {
    "cell_type": "raw",
    "metadata": {
     "collapsed": false
    },
    "source": []
   }
  }
 },
 "nbformat": 4,
 "nbformat_minor": 1
}
