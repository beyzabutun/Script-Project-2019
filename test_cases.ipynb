{
 "cells": [
  {
   "cell_type": "code",
   "execution_count": 1,
   "metadata": {
    "pycharm": {
     "is_executing": false,
     "name": "#%%\n"
    }
   },
   "outputs": [],
   "source": [
    "from item import *\n",
    "from user import *\n",
    "from database import db\n",
    "import string\n",
    "\n"
   ]
  },
  {
   "cell_type": "markdown",
   "metadata": {},
   "source": [
    "# Populate Database\n",
    "First of all, we'll create users and items with some randomly chosen datas.\n",
    " "
   ]
  },
  {
   "cell_type": "code",
   "execution_count": 2,
   "metadata": {
    "pycharm": {
     "name": "#%%\n"
    }
   },
   "outputs": [],
   "source": [
    "# 10 user names\n",
    "\n",
    "names = [\"Beste\", \"Beyza\", \"Edward\", \"Dimitri\", \"Janne\",\n",
    "             \"Evgeny\", \"Luis\", \"Olivia\", \"Amelia\", \"Valeria\"] \n",
    "\n",
    "# 10 user surnames\n",
    "\n",
    "surnames = [\"Burhan\", \"Butun\", \"Rose\", \"Smith\", \"Johnson\",\n",
    "            \"Grinko\", \"Williams\", \"Oliver\", \"Brown\", \"Black\"]\n",
    "\n",
    "# 10 user email\n",
    "\n",
    "emails = [\"besteburhan7@gmail.com\", \"beyzabtn3@gmail.com\",\n",
    "          \"edwardrose@gmail.com\", \"dimitrismith@gmail.com\",\n",
    "          \"jannejohnson@gmail.com\", \"engenygrinko@gmail.com\",\n",
    "          \"luiswilliams@gmail.com\", \"oliviaoliver@gmail.com\",\n",
    "          \"ameliabrown@gmail.com\", \"valeriablack@gmail.com\"]\n",
    "\n",
    "# 10 user password\n",
    "\n",
    "passwords = []\n",
    "\n",
    "for passwd in range(10):\n",
    "    characters = string.ascii_letters + string.punctuation +\\\n",
    "        string.digits\n",
    "    generated_password = \"\".join(choice(characters) for x in range(randint(8, 10)))\n",
    "    passwords.append(generated_password)\n",
    "    \n",
    "# 20 item title\n",
    "\n",
    "title = [\"To Kill a Mockingbird\", \"Harry Potter\",\n",
    "         \"1984\", \"Pride and Prejudice\",\"Diary of a young girl\", \n",
    "         \"Little prince\", \"Great gatspy\", \"Catcher in the rye\",\n",
    "         \"Animal Form\", \" The lord of the rings\", \"Jane Eyre\", \n",
    "         \"The Hunger Games\", \"Twilight\", \"The book Thief\",\n",
    "         \"Gone with the wind\", \"Bu sabahların bir anlamı olmalı\",\n",
    "         \"Sil bastan\", \"Cikita Muz\", \"Nane nane\", \"Ismail\"]\n",
    "\n",
    "# 20 item artist\n",
    "\n",
    "artist = [\"Harper Lee\", \"J.K. Rowling\", \"George Orwell\", \n",
    "          \"Jane Austen\", \"Anne Frank\", \"Antoine de Saint\",\n",
    "          \"F. Scott\", \"J.D. Salinger\", \"George Orwell\", \n",
    "          \"J.R.R. Tolkien\", \"Charlotte Bronte\", \"Suzanne Collins\",\n",
    "          \"Stephen Meyer\", \"Markus Zusak\", \"Margaret Mitchell\",\n",
    "          \"Vega\", \"Sebnem Ferah\", \"Ajdar\", \"Ajdar\",\"Grup Vitamın\"]\n",
    "\n",
    "# 20 item year\n",
    "\n",
    "year = [\"1996\", \"1997\", \"1998\", \"1999\", \"2000\", \"2001\",\n",
    "        \"2002\", \"2003\", \"2004\", \"2005\", \"2006\", \"2007\",\n",
    "        \"2008\", \"2009\", \"2010\", \"2011\", \"2012\", \"2013\",\n",
    "        \"2014\", \"2015\", \"2016\"]\n",
    "\n",
    "# 20 item genre\n",
    "\n",
    "genre = [\"Action\", \"Anthology\", \"Classic\", \"Comic\", \"Crime\",\n",
    "         \"Drama\", \"Fairy Tale\" , \"History\", \"Horror\", \"Romance\",\n",
    "         \"Sci-Fci\", \"Action\", \"Anthology\", \"Classic\", \"Comic\", \n",
    "         \"Crime\", \"Drama\", \"Fairy Tale\" , \"History\", \"Horror\"]\n",
    "\n",
    "# Defining friendship state and item types \n",
    "\n",
    "STATE = ['NOFRIEND', 'CLOSEFRIEND', 'FRIEND']\n",
    "item_types = [\"cd\", \"book\", \"dvd\"]\n",
    "STATE_TYPE = ['CLOSED', 'CLOSEFRIENDS', 'FRIENDS', 'EVERYONE']\n",
    "\n",
    "\n",
    "\n",
    "\n"
   ]
  },
  {
   "cell_type": "code",
   "execution_count": 3,
   "metadata": {},
   "outputs": [
    {
     "name": "stdout",
     "output_type": "stream",
     "text": [
      "1   Beste Burhan , user created but not verified yet. \n",
      "2   Beyza Butun , user created but not verified yet. \n",
      "3   Edward Rose , user created but not verified yet. \n",
      "4   Dimitri Smith , user created but not verified yet. \n",
      "5   Janne Johnson , user created but not verified yet. \n",
      "6   Evgeny Grinko , user created but not verified yet. \n",
      "7   Luis Williams , user created but not verified yet. \n",
      "8   Olivia Oliver , user created but not verified yet. \n",
      "9   Amelia Brown , user created but not verified yet. \n",
      "10   Valeria Black , user created but not verified yet. \n"
     ]
    }
   ],
   "source": [
    "# Create Users and Items\n",
    "\n",
    "User_objects = []\n",
    "Item_objects = []\n",
    "\n",
    "# users\n",
    "\n",
    "for index in range(10):\n",
    "    user = User(names[index], surnames[index], emails[index],\n",
    "                passwords[index])\n",
    "    User_objects.append(user)\n",
    "\n",
    "\n"
   ]
  },
  {
   "cell_type": "code",
   "execution_count": 4,
   "metadata": {},
   "outputs": [
    {
     "name": "stdout",
     "output_type": "stream",
     "text": [
      "name:  Beste     \t surname:    Burhan  \t is_verified: \t 0\n",
      "name:  Beyza     \t surname:    Butun  \t is_verified: \t 0\n",
      "name:  Edward     \t surname:    Rose  \t is_verified: \t 0\n",
      "name:  Dimitri     \t surname:    Smith  \t is_verified: \t 0\n",
      "name:  Janne     \t surname:    Johnson  \t is_verified: \t 0\n",
      "name:  Evgeny     \t surname:    Grinko  \t is_verified: \t 0\n",
      "name:  Luis     \t surname:    Williams  \t is_verified: \t 0\n",
      "name:  Olivia     \t surname:    Oliver  \t is_verified: \t 0\n",
      "name:  Amelia     \t surname:    Brown  \t is_verified: \t 0\n",
      "name:  Valeria     \t surname:    Black  \t is_verified: \t 0\n"
     ]
    }
   ],
   "source": [
    "curs = db.get_cursor() \n",
    "list_users = curs.execute(\"select name, surname, is_verified, verification_number from Users ;\").fetchall()\n",
    "\n",
    "for user in list_users:\n",
    "    print(\"name: \", user[0], \"    \\t surname:   \", user[1], \" \\t is_verified: \\t\", user[2])"
   ]
  },
  {
   "cell_type": "markdown",
   "metadata": {},
   "source": [
    "## Users should be verified"
   ]
  },
  {
   "cell_type": "code",
   "execution_count": 5,
   "metadata": {},
   "outputs": [
    {
     "name": "stdout",
     "output_type": "stream",
     "text": [
      "Beste is verified.\n",
      "Beyza is verified.\n",
      "Edward is verified.\n",
      "Dimitri is verified.\n",
      "Janne is verified.\n",
      "Evgeny is verified.\n",
      "Luis is verified.\n",
      "Olivia is verified.\n",
      "Amelia is verified.\n",
      "Valeria is verified.\n",
      "name:  Beste     \t surname:    Burhan  \t is_verified: \t 1\n",
      "name:  Beyza     \t surname:    Butun  \t is_verified: \t 1\n",
      "name:  Edward     \t surname:    Rose  \t is_verified: \t 1\n",
      "name:  Dimitri     \t surname:    Smith  \t is_verified: \t 1\n",
      "name:  Janne     \t surname:    Johnson  \t is_verified: \t 1\n",
      "name:  Evgeny     \t surname:    Grinko  \t is_verified: \t 1\n",
      "name:  Luis     \t surname:    Williams  \t is_verified: \t 1\n",
      "name:  Olivia     \t surname:    Oliver  \t is_verified: \t 1\n",
      "name:  Amelia     \t surname:    Brown  \t is_verified: \t 1\n",
      "name:  Valeria     \t surname:    Black  \t is_verified: \t 1\n"
     ]
    }
   ],
   "source": [
    "# for now, we look at database for verification numbers\n",
    "\n",
    "for email in emails:\n",
    "    User.verify(email, str(curs.execute(\"select verification_number from Users where email=\\'{mail}\\'\"\n",
    "                               .format(mail=email)).fetchone()[0]))\n",
    "    \n",
    "list_users = curs.execute(\"select name, surname, is_verified, verification_number from Users ;\").fetchall()\n",
    "\n",
    "for user in list_users:\n",
    "    print(\"name: \", user[0], \"    \\t surname:   \", user[1], \" \\t is_verified: \\t\", user[2])"
   ]
  },
  {
   "cell_type": "markdown",
   "metadata": {},
   "source": [
    "## Set friendships"
   ]
  },
  {
   "cell_type": "code",
   "execution_count": 6,
   "metadata": {},
   "outputs": [],
   "source": [
    "# friendship requests and accepting request \n",
    "for i in range(5):\n",
    "    sender = User_objects[i]\n",
    "    receiver = User_objects[i+5]\n",
    "    sender.friend(receiver.email)  # friendship request\n",
    "    receiver.set_friend(sender, STATE[randint(0,2)])  # SET FRIEND\n"
   ]
  },
  {
   "cell_type": "markdown",
   "metadata": {},
   "source": [
    "## Friendship states of users :"
   ]
  },
  {
   "cell_type": "code",
   "execution_count": 7,
   "metadata": {},
   "outputs": [
    {
     "name": "stdout",
     "output_type": "stream",
     "text": [
      "USER1 \t\t- USER2 \t\t:  STATE\n",
      "Beste Burhan \t- Evgeny Grinko  \t:  CLOSEFRIEND\n",
      "Beyza Butun \t- Luis Williams  \t:  CLOSEFRIEND\n",
      "Edward Rose \t- Olivia Oliver  \t:  FRIEND\n",
      "Dimitri Smith \t- Amelia Brown  \t:  NOFRIEND\n",
      "Janne Johnson \t- Valeria Black  \t:  FRIEND\n"
     ]
    }
   ],
   "source": [
    "\n",
    "print(\"USER1 \\t\\t- USER2 \\t\\t:  STATE\")\n",
    "list_friendships = curs.execute(\"select sender_user, receiver_user, state from Friends;\").fetchall()\n",
    "for friends in list_friendships:\n",
    "    print(User_objects[friends[0]-1], \"\\t-\", User_objects[friends[1]-1], \" \\t: \", STATE[friends[2]])"
   ]
  },
  {
   "cell_type": "markdown",
   "metadata": {},
   "source": [
    "## Add items to users"
   ]
  },
  {
   "cell_type": "code",
   "execution_count": 8,
   "metadata": {},
   "outputs": [
    {
     "name": "stdout",
     "output_type": "stream",
     "text": [
      "1 To Kill a Mockingbird , item is created.\n",
      "2 Harry Potter , item is created.\n",
      "3 1984 , item is created.\n",
      "4 Pride and Prejudice , item is created.\n",
      "5 Diary of a young girl , item is created.\n",
      "6 Little prince , item is created.\n",
      "7 Great gatspy , item is created.\n",
      "8 Catcher in the rye , item is created.\n",
      "9 Animal Form , item is created.\n",
      "10  The lord of the rings , item is created.\n",
      "11 Jane Eyre , item is created.\n",
      "12 The Hunger Games , item is created.\n",
      "13 Twilight , item is created.\n",
      "14 The book Thief , item is created.\n",
      "15 Gone with the wind , item is created.\n",
      "16 Bu sabahların bir anlamı olmalı , item is created.\n",
      "17 Sil bastan , item is created.\n",
      "18 Cikita Muz , item is created.\n",
      "19 Nane nane , item is created.\n",
      "20 Ismail , item is created.\n"
     ]
    }
   ],
   "source": [
    "\n",
    "# users' items\n",
    "\n",
    "for index in range(20):\n",
    "    Item_objects.append(Item(User_objects[index%10], item_types[randint(0,2)],\n",
    "                title[index], None, artist[index], genre[index],\n",
    "                year[index]))\n",
    "    "
   ]
  },
  {
   "cell_type": "markdown",
   "metadata": {},
   "source": [
    "## If an item created with isbn number"
   ]
  },
  {
   "cell_type": "code",
   "execution_count": 9,
   "metadata": {},
   "outputs": [
    {
     "name": "stdout",
     "output_type": "stream",
     "text": [
      "21 The Name Of The Rose  item is created with isbn number :  9780156001311\n",
      "\n"
     ]
    }
   ],
   "source": [
    "Item_objects.append(Item(owner=User_objects[0], item_type=item_types[0], uniqid=\"9780156001311\", genre=genre[1]))\n",
    "print()\n",
    "\n"
   ]
  },
  {
   "cell_type": "code",
   "execution_count": 10,
   "metadata": {},
   "outputs": [
    {
     "name": "stdout",
     "output_type": "stream",
     "text": [
      "id : 21\n",
      "owner : Beste Burhan\n",
      "type : cd\n",
      "title : The Name Of The Rose\n",
      "isbn : 9780156001311\n",
      "author : Umberto Eco\n",
      "genre : Anthology\n",
      "year : 1994\n",
      "location : None\n",
      "view : FRIENDS\n",
      "detail : FRIENDS\n",
      "borrow : FRIENDS\n",
      "comment : FRIENDS\n",
      "search : FRIENDS\n",
      "\n",
      "\n"
     ]
    }
   ],
   "source": [
    "\n",
    "item_with_isbn = curs.execute(\"select * from Items where id=21;\").fetchall()[0]\n",
    "print(\"id :\", item_with_isbn[0] )\n",
    "print(\"owner :\", User_objects[item_with_isbn[1]-1] )\n",
    "print(\"type :\", item_with_isbn[2] )\n",
    "print(\"title :\", item_with_isbn[3] )\n",
    "print(\"isbn :\", item_with_isbn[4] )\n",
    "print(\"author :\", item_with_isbn[5] )\n",
    "print(\"genre :\", item_with_isbn[6] )\n",
    "print(\"year :\", item_with_isbn[7] )\n",
    "print(\"location :\", item_with_isbn[8] )\n",
    "print(\"view :\", STATE_TYPE[item_with_isbn[9]] ) # set FRIEND as default\n",
    "print(\"detail :\", STATE_TYPE[item_with_isbn[10]] ) # set FRIEND as default\n",
    "print(\"borrow :\", STATE_TYPE[item_with_isbn[11]] ) # set FRIEND as default\n",
    "print(\"comment :\", STATE_TYPE[item_with_isbn[12]] ) # set FRIEND as default\n",
    "print(\"search :\", STATE_TYPE[item_with_isbn[13]] ) # set FRIEND as default\n",
    "print(\"\\n\")"
   ]
  },
  {
   "cell_type": "markdown",
   "metadata": {},
   "source": [
    "# If an user wants to search for an item."
   ]
  },
  {
   "cell_type": "code",
   "execution_count": 11,
   "metadata": {},
   "outputs": [
    {
     "name": "stdout",
     "output_type": "stream",
     "text": [
      "[\"'%the%'\"]\n",
      "SELECT owner, id FROM Items WHERE ((artist like ?) or (artist like ?)) and datetime(year)>=? and genre like '%?%' ; [\"'%the%'\", \"'%the%'\", 1990, 'Action']\n"
     ]
    },
    {
     "ename": "ProgrammingError",
     "evalue": "Incorrect number of bindings supplied. The current statement uses 3, and there are 4 supplied.",
     "output_type": "error",
     "traceback": [
      "\u001b[0;31m---------------------------------------------------------------------------\u001b[0m",
      "\u001b[0;31mProgrammingError\u001b[0m                          Traceback (most recent call last)",
      "\u001b[0;32m<ipython-input-11-a718bdb1c788>\u001b[0m in \u001b[0;36m<module>\u001b[0;34m\u001b[0m\n\u001b[0;32m----> 1\u001b[0;31m \u001b[0mItem\u001b[0m\u001b[0;34m.\u001b[0m\u001b[0msearch\u001b[0m\u001b[0;34m(\u001b[0m\u001b[0mUser_objects\u001b[0m\u001b[0;34m[\u001b[0m\u001b[0;36m0\u001b[0m\u001b[0;34m]\u001b[0m\u001b[0;34m,\u001b[0m \u001b[0;34m\"the\"\u001b[0m\u001b[0;34m,\u001b[0m \u001b[0mgenre\u001b[0m\u001b[0;34m[\u001b[0m\u001b[0;36m0\u001b[0m\u001b[0;34m]\u001b[0m\u001b[0;34m,\u001b[0m \u001b[0;36m1990\u001b[0m\u001b[0;34m,\u001b[0m \u001b[0;32mFalse\u001b[0m \u001b[0;34m)\u001b[0m\u001b[0;34m\u001b[0m\u001b[0;34m\u001b[0m\u001b[0m\n\u001b[0m\u001b[1;32m      2\u001b[0m \u001b[0;34m\u001b[0m\u001b[0m\n",
      "\u001b[0;32m~/Desktop/SCRIPT/Script-Project-2019/item.py\u001b[0m in \u001b[0;36msearch\u001b[0;34m(cls, user, search_text, genre, year, for_borrow)\u001b[0m\n\u001b[1;32m    256\u001b[0m                 \u001b[0mdata\u001b[0m \u001b[0;34m=\u001b[0m \u001b[0mwords\u001b[0m \u001b[0;34m+\u001b[0m \u001b[0mwords\u001b[0m \u001b[0;34m+\u001b[0m \u001b[0;34m[\u001b[0m\u001b[0myear\u001b[0m\u001b[0;34m]\u001b[0m \u001b[0;34m+\u001b[0m \u001b[0;34m[\u001b[0m\u001b[0mgenre\u001b[0m\u001b[0;34m]\u001b[0m\u001b[0;34m\u001b[0m\u001b[0;34m\u001b[0m\u001b[0m\n\u001b[1;32m    257\u001b[0m                 \u001b[0mprint\u001b[0m\u001b[0;34m(\u001b[0m\u001b[0mf_string\u001b[0m\u001b[0;34m,\u001b[0m \u001b[0mdata\u001b[0m\u001b[0;34m)\u001b[0m\u001b[0;34m\u001b[0m\u001b[0;34m\u001b[0m\u001b[0m\n\u001b[0;32m--> 258\u001b[0;31m                 \u001b[0mlist_user_item\u001b[0m \u001b[0;34m=\u001b[0m \u001b[0mdb_cur\u001b[0m\u001b[0;34m.\u001b[0m\u001b[0mexecute\u001b[0m\u001b[0;34m(\u001b[0m\u001b[0mf_string\u001b[0m\u001b[0;34m,\u001b[0m \u001b[0mdata\u001b[0m\u001b[0;34m)\u001b[0m\u001b[0;34m.\u001b[0m\u001b[0mfetchall\u001b[0m\u001b[0;34m(\u001b[0m\u001b[0;34m)\u001b[0m\u001b[0;34m\u001b[0m\u001b[0;34m\u001b[0m\u001b[0m\n\u001b[0m\u001b[1;32m    259\u001b[0m                 \u001b[0mprint\u001b[0m\u001b[0;34m(\u001b[0m\u001b[0mlist_user_item\u001b[0m\u001b[0;34m)\u001b[0m\u001b[0;34m\u001b[0m\u001b[0;34m\u001b[0m\u001b[0m\n\u001b[1;32m    260\u001b[0m         \u001b[0;32melse\u001b[0m\u001b[0;34m:\u001b[0m\u001b[0;34m\u001b[0m\u001b[0;34m\u001b[0m\u001b[0m\n",
      "\u001b[0;31mProgrammingError\u001b[0m: Incorrect number of bindings supplied. The current statement uses 3, and there are 4 supplied."
     ]
    }
   ],
   "source": [
    "Item.search(User_objects[0], \"the\", genre[0], 1990, False )\n",
    "\n"
   ]
  },
  {
   "cell_type": "markdown",
   "metadata": {},
   "source": [
    "## If an user wants to see other user's items\n",
    "\n",
    "First, we look at their friendship list and item view permission. Our default view, borrow, detail, comment, search permission is friend state."
   ]
  },
  {
   "cell_type": "code",
   "execution_count": 8,
   "metadata": {},
   "outputs": [
    {
     "name": "stdout",
     "output_type": "stream",
     "text": [
      "Olivia Oliver 's items:  8, 18, \n",
      "\n",
      "Edward Rose see  Olivia Oliver 's items : [8, 18]\n",
      "Janne Johnson see  Olivia Oliver 's items : []\n",
      "\n",
      "Amelia Brown 's items:  9, 19, \n",
      "\n",
      "Dimitri Smith see  Amelia Brown 's items : []\n"
     ]
    }
   ],
   "source": [
    "print(User_objects[7], \"'s items: \", end=\" \")\n",
    "for i in curs.execute(\"select id from Items where owner=8;\").fetchall():\n",
    "    print(i[0], end=\", \")\n",
    "print(\"\\n\")\n",
    "print(User_objects[2], \"see \", User_objects[7], \"'s items :\", User_objects[2].list_items(User_objects[7]))\n",
    "print(User_objects[4], \"see \", User_objects[7], \"'s items :\", User_objects[4].list_items(User_objects[7]))\n",
    "print()\n",
    "print(User_objects[8], \"'s items: \", end=\" \")\n",
    "for i in curs.execute(\"select id from Items where owner=9;\").fetchall():\n",
    "    print(i[0], end=\", \")\n",
    "print(\"\\n\")\n",
    "print(User_objects[3], \"see \", User_objects[8], \"'s items :\", User_objects[3].list_items(User_objects[8]))"
   ]
  },
  {
   "cell_type": "markdown",
   "metadata": {},
   "source": [
    "## If an user wants to watch a user in order to see notification about new items"
   ]
  },
  {
   "cell_type": "code",
   "execution_count": 9,
   "metadata": {},
   "outputs": [
    {
     "name": "stdout",
     "output_type": "stream",
     "text": [
      "Dimitri Smith and Amelia Brown are not friend. Watching denied\n",
      "Janne Johnson watching Valeria Black.\n"
     ]
    }
   ],
   "source": [
    "User_objects[3].watch(User_objects[8], \"USER\")\n",
    "User_objects[4].watch(User_objects[9], \"USER\")\n",
    "\n"
   ]
  },
  {
   "cell_type": "markdown",
   "metadata": {},
   "source": [
    "## To view matching user emails from given a list of emails "
   ]
  },
  {
   "cell_type": "code",
   "execution_count": 10,
   "metadata": {},
   "outputs": [
    {
     "data": {
      "text/plain": [
       "['besteburhan7@gmail.com', 'beyzabtn3@gmail.com']"
      ]
     },
     "execution_count": 10,
     "metadata": {},
     "output_type": "execute_result"
    }
   ],
   "source": [
    "User_objects[0].look_up((\"beyzabutun@metu,edu,tr\",\n",
    "                         \"besteburhan7@gmail.com\", \n",
    "                         \"beyzabtn3@gmail.com\" ))"
   ]
  },
  {
   "cell_type": "markdown",
   "metadata": {},
   "source": [
    "## Let throw some borrow request for some users\n",
    "\n",
    "borrowed_req function returns the order in the queue of requests of this item."
   ]
  },
  {
   "cell_type": "code",
   "execution_count": 11,
   "metadata": {},
   "outputs": [
    {
     "data": {
      "text/plain": [
       "[5]"
      ]
     },
     "execution_count": 11,
     "metadata": {},
     "output_type": "execute_result"
    }
   ],
   "source": [
    "Item_objects[7].borrowed_req(User_objects[4])"
   ]
  },
  {
   "cell_type": "code",
   "execution_count": 12,
   "metadata": {},
   "outputs": [
    {
     "data": {
      "text/plain": [
       "[5, 6]"
      ]
     },
     "execution_count": 12,
     "metadata": {},
     "output_type": "execute_result"
    }
   ],
   "source": [
    "Item_objects[7].borrowed_req(User_objects[5])"
   ]
  },
  {
   "cell_type": "code",
   "execution_count": 13,
   "metadata": {},
   "outputs": [
    {
     "name": "stdout",
     "output_type": "stream",
     "text": [
      "Evgeny Grinko already requested for this item.\n"
     ]
    },
    {
     "data": {
      "text/plain": [
       "[5, 6]"
      ]
     },
     "execution_count": 13,
     "metadata": {},
     "output_type": "execute_result"
    }
   ],
   "source": [
    "\n",
    "Item_objects[7].borrowed_req(User_objects[5])"
   ]
  },
  {
   "cell_type": "code",
   "execution_count": 14,
   "metadata": {},
   "outputs": [
    {
     "data": {
      "text/plain": [
       "[5, 6, 10]"
      ]
     },
     "execution_count": 14,
     "metadata": {},
     "output_type": "execute_result"
    }
   ],
   "source": [
    "Item_objects[7].borrowed_req(User_objects[9])"
   ]
  },
  {
   "cell_type": "markdown",
   "metadata": {},
   "source": [
    "## If an item is borrowed by an user"
   ]
  },
  {
   "cell_type": "code",
   "execution_count": 15,
   "metadata": {},
   "outputs": [],
   "source": [
    "Item_objects[7].borrowed_by(User_objects[8])"
   ]
  },
  {
   "cell_type": "code",
   "execution_count": 16,
   "metadata": {},
   "outputs": [
    {
     "name": "stdout",
     "output_type": "stream",
     "text": [
      "This item already borrowed.\n",
      "Item Id, User Id, is_returned [(8, 9, 0)]\n"
     ]
    }
   ],
   "source": [
    "# 9nth user cannot borrow before it is returned\n",
    "Item_objects[7].borrowed_by(User_objects[9])\n",
    "\n",
    "# Let see Borrows database table for this item\n",
    "curs = db.get_cursor()\n",
    "print(\"Item Id, User Id, is_returned\", curs.execute(\"select item_id, user_id, is_returned from Borrows;\").fetchall())"
   ]
  },
  {
   "cell_type": "markdown",
   "metadata": {},
   "source": [
    "## Return the item, then borrowed by an user"
   ]
  },
  {
   "cell_type": "code",
   "execution_count": 17,
   "metadata": {},
   "outputs": [
    {
     "name": "stdout",
     "output_type": "stream",
     "text": [
      "8 Catcher in the rye \t 9 Amelia Brown \t is_returned : True\n",
      "8 Catcher in the rye \t 10 Valeria Black \t is_returned : False\n",
      "\n",
      "\n"
     ]
    }
   ],
   "source": [
    "# After 8th user returned the item, 9th user borrows it \n",
    "\n",
    "Item_objects[7].returned()\n",
    "\n",
    "Item_objects[7].borrowed_by(User_objects[9])\n",
    "\n",
    "\n",
    "for i in curs.execute(\"select item_id, user_id, is_returned from Borrows where item_id=8;\").fetchall():\n",
    "    print(i[0], Item_objects[i[0]-1], \"\\t\", i[1], User_objects[i[1]-1], \"\\t is_returned :\", bool(i[2]))\n",
    "print(\"\\n\")\n"
   ]
  },
  {
   "cell_type": "code",
   "execution_count": 18,
   "metadata": {},
   "outputs": [
    {
     "name": "stdout",
     "output_type": "stream",
     "text": [
      "8 Catcher in the rye \t 9 Amelia Brown \t is_returned : True\n",
      "8 Catcher in the rye \t 10 Valeria Black \t is_returned : True\n",
      "\n",
      "\n"
     ]
    }
   ],
   "source": [
    "Item_objects[7].returned()\n",
    "\n",
    "for i in curs.execute(\"select item_id, user_id, is_returned from Borrows where item_id=8;\").fetchall():\n",
    "    print(i[0], Item_objects[i[0]-1], \"\\t\", i[1], User_objects[i[1]-1], \"\\t is_returned :\", bool(i[2]))\n",
    "print(\"\\n\")\n"
   ]
  },
  {
   "cell_type": "markdown",
   "metadata": {},
   "source": [
    "## If users want to comment and to see all comment for an item"
   ]
  },
  {
   "cell_type": "code",
   "execution_count": 20,
   "metadata": {},
   "outputs": [
    {
     "name": "stdout",
     "output_type": "stream",
     "text": [
      "friend_state of Valeria Black with owner of item:  NOFRIEND\n",
      "comment permission for this item:  FRIENDS\n",
      "Valeria Black has no permission to comment for this item.\n",
      "[]\n"
     ]
    }
   ],
   "source": [
    "# 9th user comment the 4th item\n",
    "\n",
    "Item_objects[4].make_comment(User_objects[9], \"This book is kinda boring. Not recommended!\")\n",
    "\n",
    "print(Item_objects[4].list_comments())"
   ]
  },
  {
   "cell_type": "code",
   "execution_count": 21,
   "metadata": {},
   "outputs": [
    {
     "name": "stdout",
     "output_type": "stream",
     "text": [
      "[(7, 'Absolutely recommended!')]\n"
     ]
    }
   ],
   "source": [
    "# change comment permission\n",
    "Item_objects[4].setstate(\"comment\", \"EVERYONE\")\n",
    "\n",
    "# 6th user comment the 4th item\n",
    "Item_objects[4].make_comment(User_objects[6], \"Absolutely recommended!\")\n",
    "\n",
    "print(Item_objects[4].list_comments())"
   ]
  },
  {
   "cell_type": "code",
   "execution_count": 22,
   "metadata": {},
   "outputs": [
    {
     "name": "stdout",
     "output_type": "stream",
     "text": [
      "[(7, 'Absolutely recommended!'), (10, 'This book is kinda boring. Not recommended!')]\n"
     ]
    }
   ],
   "source": [
    "Item_objects[4].make_comment(User_objects[9], \"This book is kinda boring. Not recommended!\")\n",
    "print(Item_objects[4].list_comments())"
   ]
  },
  {
   "cell_type": "markdown",
   "metadata": {},
   "source": [
    "## If an user wants to rate an item."
   ]
  },
  {
   "cell_type": "code",
   "execution_count": 23,
   "metadata": {},
   "outputs": [
    {
     "name": "stdout",
     "output_type": "stream",
     "text": [
      "Average rating:  9.0\n",
      "Average rating:  8.0\n"
     ]
    }
   ],
   "source": [
    "# The 8th and 9th users rate the 7th item\n",
    "\n",
    "Item_objects[7].rate(User_objects[8], 9)\n",
    "\n",
    "print(\"Average rating: \", Item_objects[7].get_rating())\n",
    "\n",
    "Item_objects[7].rate(User_objects[9], 7)\n",
    "\n",
    "print(\"Average rating: \", Item_objects[7].get_rating())\n"
   ]
  },
  {
   "cell_type": "markdown",
   "metadata": {},
   "source": [
    "## If owner wants to locate of own item."
   ]
  },
  {
   "cell_type": "code",
   "execution_count": 24,
   "metadata": {},
   "outputs": [
    {
     "name": "stdout",
     "output_type": "stream",
     "text": [
      "item :  5  title:  Diary of a young girl  \t location :  ROOM\n",
      "item :  8  title:  Catcher in the rye  \t location :  SHELF\n"
     ]
    }
   ],
   "source": [
    "# Change 7th and 4th items' location\n",
    "\n",
    "Item_objects[7].locate(\"SHELF\")\n",
    "\n",
    "Item_objects[4].locate(\"ROOM\")\n",
    "\n",
    "for item in curs.execute(\"select id,location from Items where id = 8 or id = 5;\").fetchall():\n",
    "    print(\"item : \", item[0],\" title: \", Item_objects[item[0]-1], \" \\t location : \", item[1])\n",
    "\n"
   ]
  },
  {
   "cell_type": "code",
   "execution_count": null,
   "metadata": {},
   "outputs": [],
   "source": []
  },
  {
   "cell_type": "code",
   "execution_count": null,
   "metadata": {},
   "outputs": [],
   "source": []
  },
  {
   "cell_type": "code",
   "execution_count": null,
   "metadata": {},
   "outputs": [],
   "source": []
  },
  {
   "cell_type": "code",
   "execution_count": null,
   "metadata": {},
   "outputs": [],
   "source": []
  }
 ],
 "metadata": {
  "kernelspec": {
   "display_name": "Python 3",
   "language": "python",
   "name": "python3"
  },
  "language_info": {
   "codemirror_mode": {
    "name": "ipython",
    "version": 3
   },
   "file_extension": ".py",
   "mimetype": "text/x-python",
   "name": "python",
   "nbconvert_exporter": "python",
   "pygments_lexer": "ipython3",
   "version": "3.7.3"
  },
  "pycharm": {
   "stem_cell": {
    "cell_type": "raw",
    "metadata": {
     "collapsed": false
    },
    "source": []
   }
  }
 },
 "nbformat": 4,
 "nbformat_minor": 1
}
